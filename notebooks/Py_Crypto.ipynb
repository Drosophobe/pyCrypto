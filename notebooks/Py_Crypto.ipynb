{
 "cells": [
  {
   "cell_type": "markdown",
   "id": "dbe2dcf4",
   "metadata": {},
   "source": [
    "# Algorithme PyCrypto "
   ]
  },
  {
   "cell_type": "markdown",
   "id": "fb391faf",
   "metadata": {},
   "source": [
    "Dans cette partie nous allons implémenter notre algorithme PyCrypto en se basant sur la définition du BestMarkowitz."
   ]
  },
  {
   "cell_type": "code",
   "execution_count": 1,
   "id": "444da9c1",
   "metadata": {},
   "outputs": [],
   "source": [
    "import numpy as np\n",
    "import pandas as pd\n",
    "\n",
    "from universal import tools\n",
    "from universal.algos import CRP\n",
    "\n",
    "\n",
    "class Pycrypto(CRP):\n",
    "    \"\"\"\n",
    "    Reference:\n",
    "        https://en.wikipedia.org/wiki/Modern_portfolio_theory\n",
    "    \"\"\"\n",
    "\n",
    "    PRICE_TYPE = \"ratio\"\n",
    "    REPLACE_MISSING = False\n",
    "    \n",
    "\n",
    "    \n",
    "    def __init__(self, global_sharpe=None, sharpe=None, **kwargs):\n",
    "        self.global_sharpe = global_sharpe\n",
    "        self.sharpe = sharpe\n",
    "        self.opt_markowitz_kwargs = kwargs\n",
    "\n",
    "    def weights(self, X, y):\n",
    "        # y est la tables des prédictions faites par notre algorithme de machine learning\n",
    "        # X est notre dataframe de close\n",
    "        y = y.to_numpy()\n",
    "        y = y.reshape(y.shape[0], 1)\n",
    "        # update frequency\n",
    "        freq = tools.freq(X.index)\n",
    "\n",
    "        R = X - 1\n",
    "\n",
    "        # calculate mean and covariance matrix and annualize them\n",
    "        sigma = R.cov() * freq\n",
    "\n",
    "        if self.sharpe:\n",
    "            mu = pd.Series(np.sqrt(np.diag(sigma)), X.columns) * pd.Series(\n",
    "                self.sharpe\n",
    "            ).reindex(X.columns)\n",
    "        elif self.global_sharpe:\n",
    "            mu = pd.Series(np.sqrt(np.diag(sigma)) * self.global_sharpe, X.columns)\n",
    "        else:\n",
    "            mu = R.mean() * freq\n",
    "\n",
    "        self.b = tools.opt_markowitz(mu, sigma, **self.opt_markowitz_kwargs)\n",
    "\n",
    "        return super().weights(R)*y\n"
   ]
  }
 ],
 "metadata": {
  "kernelspec": {
   "display_name": "Python 3 (ipykernel)",
   "language": "python",
   "name": "python3"
  },
  "language_info": {
   "codemirror_mode": {
    "name": "ipython",
    "version": 3
   },
   "file_extension": ".py",
   "mimetype": "text/x-python",
   "name": "python",
   "nbconvert_exporter": "python",
   "pygments_lexer": "ipython3",
   "version": "3.9.12"
  }
 },
 "nbformat": 4,
 "nbformat_minor": 5
}
