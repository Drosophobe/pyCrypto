{
 "cells": [
  {
   "cell_type": "code",
   "execution_count": null,
   "id": "8ad68514",
   "metadata": {},
   "outputs": [],
   "source": [
    "import snscrape.modules.twitter as sntwitter\n",
    "import pandas as pd\n",
    "import datetim"
   ]
  },
  {
   "cell_type": "code",
   "execution_count": 58,
   "id": "f51fc7c9",
   "metadata": {},
   "outputs": [
    {
     "data": {
      "text/html": [
       "<div>\n",
       "<style scoped>\n",
       "    .dataframe tbody tr th:only-of-type {\n",
       "        vertical-align: middle;\n",
       "    }\n",
       "\n",
       "    .dataframe tbody tr th {\n",
       "        vertical-align: top;\n",
       "    }\n",
       "\n",
       "    .dataframe thead th {\n",
       "        text-align: right;\n",
       "    }\n",
       "</style>\n",
       "<table border=\"1\" class=\"dataframe\">\n",
       "  <thead>\n",
       "    <tr style=\"text-align: right;\">\n",
       "      <th></th>\n",
       "      <th>Date</th>\n",
       "      <th>User</th>\n",
       "      <th>Tweet</th>\n",
       "    </tr>\n",
       "  </thead>\n",
       "  <tbody>\n",
       "    <tr>\n",
       "      <th>0</th>\n",
       "      <td>2020-10-29 13:03:39+00:00</td>\n",
       "      <td>Bloomberg</td>\n",
       "      <td>As #ESG investments grow, so too does the need...</td>\n",
       "    </tr>\n",
       "    <tr>\n",
       "      <th>1</th>\n",
       "      <td>2020-10-27 14:12:28+00:00</td>\n",
       "      <td>Bloomberg</td>\n",
       "      <td>Our own Joe McHale, Head of European Governmen...</td>\n",
       "    </tr>\n",
       "    <tr>\n",
       "      <th>2</th>\n",
       "      <td>2020-10-26 14:55:52+00:00</td>\n",
       "      <td>Bloomberg</td>\n",
       "      <td>For decades, women have fought against bias wi...</td>\n",
       "    </tr>\n",
       "    <tr>\n",
       "      <th>3</th>\n",
       "      <td>2020-10-23 14:24:38+00:00</td>\n",
       "      <td>Bloomberg</td>\n",
       "      <td>In a moment when so much is changing so quickl...</td>\n",
       "    </tr>\n",
       "    <tr>\n",
       "      <th>4</th>\n",
       "      <td>2020-10-21 13:25:14+00:00</td>\n",
       "      <td>Bloomberg</td>\n",
       "      <td>At a time when accurate information can save l...</td>\n",
       "    </tr>\n",
       "    <tr>\n",
       "      <th>5</th>\n",
       "      <td>2020-10-20 22:03:28+00:00</td>\n",
       "      <td>Bloomberg</td>\n",
       "      <td>A report today about Bloomberg LP ownership is...</td>\n",
       "    </tr>\n",
       "    <tr>\n",
       "      <th>6</th>\n",
       "      <td>2020-10-20 13:59:58+00:00</td>\n",
       "      <td>Bloomberg</td>\n",
       "      <td>If you don't include everyone, you don't know ...</td>\n",
       "    </tr>\n",
       "    <tr>\n",
       "      <th>7</th>\n",
       "      <td>2020-10-16 12:00:07+00:00</td>\n",
       "      <td>Bloomberg</td>\n",
       "      <td>The agenda for the four-day, live-streamed eve...</td>\n",
       "    </tr>\n",
       "    <tr>\n",
       "      <th>8</th>\n",
       "      <td>2020-10-14 13:32:07+00:00</td>\n",
       "      <td>Bloomberg</td>\n",
       "      <td>How it started:            How it's going: htt...</td>\n",
       "    </tr>\n",
       "    <tr>\n",
       "      <th>9</th>\n",
       "      <td>2020-10-13 18:01:31+00:00</td>\n",
       "      <td>Bloomberg</td>\n",
       "      <td>\"There aren't a lot of companies that can cred...</td>\n",
       "    </tr>\n",
       "  </tbody>\n",
       "</table>\n",
       "</div>"
      ],
      "text/plain": [
       "                        Date       User  \\\n",
       "0  2020-10-29 13:03:39+00:00  Bloomberg   \n",
       "1  2020-10-27 14:12:28+00:00  Bloomberg   \n",
       "2  2020-10-26 14:55:52+00:00  Bloomberg   \n",
       "3  2020-10-23 14:24:38+00:00  Bloomberg   \n",
       "4  2020-10-21 13:25:14+00:00  Bloomberg   \n",
       "5  2020-10-20 22:03:28+00:00  Bloomberg   \n",
       "6  2020-10-20 13:59:58+00:00  Bloomberg   \n",
       "7  2020-10-16 12:00:07+00:00  Bloomberg   \n",
       "8  2020-10-14 13:32:07+00:00  Bloomberg   \n",
       "9  2020-10-13 18:01:31+00:00  Bloomberg   \n",
       "\n",
       "                                               Tweet  \n",
       "0  As #ESG investments grow, so too does the need...  \n",
       "1  Our own Joe McHale, Head of European Governmen...  \n",
       "2  For decades, women have fought against bias wi...  \n",
       "3  In a moment when so much is changing so quickl...  \n",
       "4  At a time when accurate information can save l...  \n",
       "5  A report today about Bloomberg LP ownership is...  \n",
       "6  If you don't include everyone, you don't know ...  \n",
       "7  The agenda for the four-day, live-streamed eve...  \n",
       "8  How it started:            How it's going: htt...  \n",
       "9  \"There aren't a lot of companies that can cred...  "
      ]
     },
     "execution_count": 58,
     "metadata": {},
     "output_type": "execute_result"
    }
   ],
   "source": [
    "df = pd.read_csv('C:/Users/selim/pyCrypto/data/nasdaq/tweets/tweets_covid_DF.csv', sep='\\t')\n",
    "df"
   ]
  },
  {
   "cell_type": "code",
   "execution_count": 59,
   "id": "16fd7d34",
   "metadata": {},
   "outputs": [
    {
     "name": "stdout",
     "output_type": "stream",
     "text": [
      "<class 'pandas.core.frame.DataFrame'>\n",
      "RangeIndex: 10 entries, 0 to 9\n",
      "Data columns (total 3 columns):\n",
      " #   Column  Non-Null Count  Dtype \n",
      "---  ------  --------------  ----- \n",
      " 0   Date    10 non-null     object\n",
      " 1   User    10 non-null     object\n",
      " 2   Tweet   10 non-null     object\n",
      "dtypes: object(3)\n",
      "memory usage: 368.0+ bytes\n"
     ]
    }
   ],
   "source": [
    "df.info()"
   ]
  },
  {
   "cell_type": "code",
   "execution_count": 60,
   "id": "c5a2e022",
   "metadata": {},
   "outputs": [],
   "source": [
    "df['Date'] = pd.to_datetime(df['Date'])"
   ]
  },
  {
   "cell_type": "code",
   "execution_count": 61,
   "id": "b1a169b0",
   "metadata": {},
   "outputs": [
    {
     "name": "stdout",
     "output_type": "stream",
     "text": [
      "<class 'pandas.core.frame.DataFrame'>\n",
      "RangeIndex: 10 entries, 0 to 9\n",
      "Data columns (total 3 columns):\n",
      " #   Column  Non-Null Count  Dtype              \n",
      "---  ------  --------------  -----              \n",
      " 0   Date    10 non-null     datetime64[ns, UTC]\n",
      " 1   User    10 non-null     object             \n",
      " 2   Tweet   10 non-null     object             \n",
      "dtypes: datetime64[ns, UTC](1), object(2)\n",
      "memory usage: 368.0+ bytes\n"
     ]
    }
   ],
   "source": [
    "df.info()"
   ]
  },
  {
   "cell_type": "code",
   "execution_count": 62,
   "id": "20999234",
   "metadata": {},
   "outputs": [],
   "source": [
    "df['Date'] = df['Date'].dt.date"
   ]
  },
  {
   "cell_type": "code",
   "execution_count": 63,
   "id": "070e8c00",
   "metadata": {},
   "outputs": [
    {
     "data": {
      "text/html": [
       "<div>\n",
       "<style scoped>\n",
       "    .dataframe tbody tr th:only-of-type {\n",
       "        vertical-align: middle;\n",
       "    }\n",
       "\n",
       "    .dataframe tbody tr th {\n",
       "        vertical-align: top;\n",
       "    }\n",
       "\n",
       "    .dataframe thead th {\n",
       "        text-align: right;\n",
       "    }\n",
       "</style>\n",
       "<table border=\"1\" class=\"dataframe\">\n",
       "  <thead>\n",
       "    <tr style=\"text-align: right;\">\n",
       "      <th></th>\n",
       "      <th>Date</th>\n",
       "      <th>User</th>\n",
       "      <th>Tweet</th>\n",
       "    </tr>\n",
       "  </thead>\n",
       "  <tbody>\n",
       "    <tr>\n",
       "      <th>0</th>\n",
       "      <td>2020-10-29</td>\n",
       "      <td>Bloomberg</td>\n",
       "      <td>As #ESG investments grow, so too does the need...</td>\n",
       "    </tr>\n",
       "    <tr>\n",
       "      <th>1</th>\n",
       "      <td>2020-10-27</td>\n",
       "      <td>Bloomberg</td>\n",
       "      <td>Our own Joe McHale, Head of European Governmen...</td>\n",
       "    </tr>\n",
       "    <tr>\n",
       "      <th>2</th>\n",
       "      <td>2020-10-26</td>\n",
       "      <td>Bloomberg</td>\n",
       "      <td>For decades, women have fought against bias wi...</td>\n",
       "    </tr>\n",
       "    <tr>\n",
       "      <th>3</th>\n",
       "      <td>2020-10-23</td>\n",
       "      <td>Bloomberg</td>\n",
       "      <td>In a moment when so much is changing so quickl...</td>\n",
       "    </tr>\n",
       "    <tr>\n",
       "      <th>4</th>\n",
       "      <td>2020-10-21</td>\n",
       "      <td>Bloomberg</td>\n",
       "      <td>At a time when accurate information can save l...</td>\n",
       "    </tr>\n",
       "    <tr>\n",
       "      <th>5</th>\n",
       "      <td>2020-10-20</td>\n",
       "      <td>Bloomberg</td>\n",
       "      <td>A report today about Bloomberg LP ownership is...</td>\n",
       "    </tr>\n",
       "    <tr>\n",
       "      <th>6</th>\n",
       "      <td>2020-10-20</td>\n",
       "      <td>Bloomberg</td>\n",
       "      <td>If you don't include everyone, you don't know ...</td>\n",
       "    </tr>\n",
       "    <tr>\n",
       "      <th>7</th>\n",
       "      <td>2020-10-16</td>\n",
       "      <td>Bloomberg</td>\n",
       "      <td>The agenda for the four-day, live-streamed eve...</td>\n",
       "    </tr>\n",
       "    <tr>\n",
       "      <th>8</th>\n",
       "      <td>2020-10-14</td>\n",
       "      <td>Bloomberg</td>\n",
       "      <td>How it started:            How it's going: htt...</td>\n",
       "    </tr>\n",
       "    <tr>\n",
       "      <th>9</th>\n",
       "      <td>2020-10-13</td>\n",
       "      <td>Bloomberg</td>\n",
       "      <td>\"There aren't a lot of companies that can cred...</td>\n",
       "    </tr>\n",
       "  </tbody>\n",
       "</table>\n",
       "</div>"
      ],
      "text/plain": [
       "         Date       User                                              Tweet\n",
       "0  2020-10-29  Bloomberg  As #ESG investments grow, so too does the need...\n",
       "1  2020-10-27  Bloomberg  Our own Joe McHale, Head of European Governmen...\n",
       "2  2020-10-26  Bloomberg  For decades, women have fought against bias wi...\n",
       "3  2020-10-23  Bloomberg  In a moment when so much is changing so quickl...\n",
       "4  2020-10-21  Bloomberg  At a time when accurate information can save l...\n",
       "5  2020-10-20  Bloomberg  A report today about Bloomberg LP ownership is...\n",
       "6  2020-10-20  Bloomberg  If you don't include everyone, you don't know ...\n",
       "7  2020-10-16  Bloomberg  The agenda for the four-day, live-streamed eve...\n",
       "8  2020-10-14  Bloomberg  How it started:            How it's going: htt...\n",
       "9  2020-10-13  Bloomberg  \"There aren't a lot of companies that can cred..."
      ]
     },
     "execution_count": 63,
     "metadata": {},
     "output_type": "execute_result"
    }
   ],
   "source": [
    "df"
   ]
  },
  {
   "cell_type": "code",
   "execution_count": 64,
   "id": "ac1d9bd4",
   "metadata": {},
   "outputs": [
    {
     "data": {
      "text/plain": [
       "Date\n",
       "2020-10-13    1\n",
       "2020-10-14    1\n",
       "2020-10-16    1\n",
       "2020-10-20    2\n",
       "2020-10-21    1\n",
       "2020-10-23    1\n",
       "2020-10-26    1\n",
       "2020-10-27    1\n",
       "2020-10-29    1\n",
       "Name: Date, dtype: int64"
      ]
     },
     "execution_count": 64,
     "metadata": {},
     "output_type": "execute_result"
    }
   ],
   "source": [
    "df.groupby('Date')['Date'].count()"
   ]
  },
  {
   "cell_type": "code",
   "execution_count": null,
   "id": "9cb09f01",
   "metadata": {},
   "outputs": [],
   "source": []
  }
 ],
 "metadata": {
  "kernelspec": {
   "display_name": "Python 3 (ipykernel)",
   "language": "python",
   "name": "python3"
  },
  "language_info": {
   "codemirror_mode": {
    "name": "ipython",
    "version": 3
   },
   "file_extension": ".py",
   "mimetype": "text/x-python",
   "name": "python",
   "nbconvert_exporter": "python",
   "pygments_lexer": "ipython3",
   "version": "3.9.12"
  }
 },
 "nbformat": 4,
 "nbformat_minor": 5
}
