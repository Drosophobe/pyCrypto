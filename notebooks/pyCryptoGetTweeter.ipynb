{
 "cells": [
  {
   "cell_type": "code",
   "execution_count": 1,
   "id": "3b19c0bf",
   "metadata": {},
   "outputs": [
    {
     "name": "stdout",
     "output_type": "stream",
     "text": [
      "Requirement already satisfied: snscrape in c:\\programdata\\anaconda3\\lib\\site-packages (0.4.3.20220106)\n",
      "Requirement already satisfied: lxml in c:\\programdata\\anaconda3\\lib\\site-packages (from snscrape) (4.8.0)\n",
      "Requirement already satisfied: beautifulsoup4 in c:\\programdata\\anaconda3\\lib\\site-packages (from snscrape) (4.9.3)\n",
      "Requirement already satisfied: requests[socks] in c:\\programdata\\anaconda3\\lib\\site-packages (from snscrape) (2.25.1)\n",
      "Requirement already satisfied: filelock in c:\\programdata\\anaconda3\\lib\\site-packages (from snscrape) (3.6.0)\n",
      "Requirement already satisfied: soupsieve>1.2 in c:\\programdata\\anaconda3\\lib\\site-packages (from beautifulsoup4->snscrape) (2.3.1)\n",
      "Requirement already satisfied: idna<3,>=2.5 in c:\\programdata\\anaconda3\\lib\\site-packages (from requests[socks]->snscrape) (2.10)\n",
      "Requirement already satisfied: chardet<5,>=3.0.2 in c:\\programdata\\anaconda3\\lib\\site-packages (from requests[socks]->snscrape) (4.0.0)\n",
      "Requirement already satisfied: certifi>=2017.4.17 in c:\\programdata\\anaconda3\\lib\\site-packages (from requests[socks]->snscrape) (2022.6.15)\n",
      "Requirement already satisfied: urllib3<1.27,>=1.21.1 in c:\\programdata\\anaconda3\\lib\\site-packages (from requests[socks]->snscrape) (1.26.9)\n",
      "Requirement already satisfied: PySocks!=1.5.7,>=1.5.6 in c:\\programdata\\anaconda3\\lib\\site-packages (from requests[socks]->snscrape) (1.7.1)\n"
     ]
    },
    {
     "name": "stderr",
     "output_type": "stream",
     "text": [
      "WARNING: Ignoring invalid distribution - (c:\\programdata\\anaconda3\\lib\\site-packages)\n",
      "WARNING: Ignoring invalid distribution -dna (c:\\programdata\\anaconda3\\lib\\site-packages)\n",
      "WARNING: Ignoring invalid distribution - (c:\\programdata\\anaconda3\\lib\\site-packages)\n",
      "WARNING: Ignoring invalid distribution -dna (c:\\programdata\\anaconda3\\lib\\site-packages)\n",
      "WARNING: Ignoring invalid distribution - (c:\\programdata\\anaconda3\\lib\\site-packages)\n",
      "WARNING: Ignoring invalid distribution -dna (c:\\programdata\\anaconda3\\lib\\site-packages)\n",
      "WARNING: Ignoring invalid distribution - (c:\\programdata\\anaconda3\\lib\\site-packages)\n",
      "WARNING: Ignoring invalid distribution -dna (c:\\programdata\\anaconda3\\lib\\site-packages)\n",
      "WARNING: Ignoring invalid distribution - (c:\\programdata\\anaconda3\\lib\\site-packages)\n",
      "WARNING: Ignoring invalid distribution -dna (c:\\programdata\\anaconda3\\lib\\site-packages)\n",
      "WARNING: Ignoring invalid distribution - (c:\\programdata\\anaconda3\\lib\\site-packages)\n",
      "WARNING: Ignoring invalid distribution -dna (c:\\programdata\\anaconda3\\lib\\site-packages)\n"
     ]
    }
   ],
   "source": [
    "!pip install snscrape"
   ]
  },
  {
   "cell_type": "code",
   "execution_count": 2,
   "id": "6a1484b8",
   "metadata": {},
   "outputs": [],
   "source": [
    "import snscrape.modules.twitter as sntwitter\n",
    "import pandas as pd"
   ]
  },
  {
   "cell_type": "code",
   "execution_count": 3,
   "id": "e4e7fa9d",
   "metadata": {},
   "outputs": [],
   "source": [
    "class tweet:\n",
    "    def __init__(self, htag_follower = 'elonmusk' , until= '2023-01-01' , since='2022-01-01', limit = 10):\n",
    "         self._htag_follower = htag_follower\n",
    "         self._until = until\n",
    "         self._since = since\n",
    "         self._limit = limit\n",
    "      \n",
    "    # getter method\n",
    "    def get_htag_follower(self):\n",
    "        return self._htag_follower\n",
    "      \n",
    "    # setter method\n",
    "    def set_htag_follower(self, x):\n",
    "        self._htag_follower = x\n",
    "\n",
    "    # getter method\n",
    "    def get_until(self):\n",
    "        return self._until\n",
    "      \n",
    "    # setter method\n",
    "    def set_until(self, x):\n",
    "        self._until = x\n",
    "  \n",
    "    # getter method\n",
    "    def get_since(self):\n",
    "        return self._since\n",
    "      \n",
    "    # setter method\n",
    "    def set_since(self, x):\n",
    "        self._since = x\n",
    "\n",
    "    # getter method\n",
    "    def get_limit(self):\n",
    "        return self._limit\n",
    "      \n",
    "    # setter method\n",
    "    def set_limit(self, x):\n",
    "        self._limit = x\n",
    "    \n",
    "    def get_tweets(self):\n",
    "      query = \"(from:\" +  self._htag_follower + \") until:\" +  self._until + \" since:\" +  self._since\n",
    "      tweets = []\n",
    "      limit = self._limit\n",
    "      for tweet in sntwitter.TwitterSearchScraper(query).get_items():\n",
    "        # print(vars(tweet))\n",
    "        # break\n",
    "        if len(tweets) == limit:\n",
    "            break\n",
    "        else:\n",
    "            tweets.append([tweet.date, tweet.user.username, tweet.content])\n",
    "\n",
    "      return pd.DataFrame(tweets, columns=['Date', 'User', 'Tweet'])"
   ]
  },
  {
   "cell_type": "code",
   "execution_count": 4,
   "id": "db1eb42e",
   "metadata": {},
   "outputs": [
    {
     "data": {
      "text/html": [
       "<div>\n",
       "<style scoped>\n",
       "    .dataframe tbody tr th:only-of-type {\n",
       "        vertical-align: middle;\n",
       "    }\n",
       "\n",
       "    .dataframe tbody tr th {\n",
       "        vertical-align: top;\n",
       "    }\n",
       "\n",
       "    .dataframe thead th {\n",
       "        text-align: right;\n",
       "    }\n",
       "</style>\n",
       "<table border=\"1\" class=\"dataframe\">\n",
       "  <thead>\n",
       "    <tr style=\"text-align: right;\">\n",
       "      <th></th>\n",
       "      <th>Date</th>\n",
       "      <th>User</th>\n",
       "      <th>Tweet</th>\n",
       "    </tr>\n",
       "  </thead>\n",
       "  <tbody>\n",
       "    <tr>\n",
       "      <th>0</th>\n",
       "      <td>2022-07-29 00:37:02+00:00</td>\n",
       "      <td>elonmusk</td>\n",
       "      <td>@chicago_glenn We should thank farmers more</td>\n",
       "    </tr>\n",
       "    <tr>\n",
       "      <th>1</th>\n",
       "      <td>2022-07-29 00:34:55+00:00</td>\n",
       "      <td>elonmusk</td>\n",
       "      <td>@WholeMarsBlog Products that bring joy are rare</td>\n",
       "    </tr>\n",
       "    <tr>\n",
       "      <th>2</th>\n",
       "      <td>2022-07-29 00:33:30+00:00</td>\n",
       "      <td>elonmusk</td>\n",
       "      <td>@teslaownersSV Too early to say for sure</td>\n",
       "    </tr>\n",
       "    <tr>\n",
       "      <th>3</th>\n",
       "      <td>2022-07-29 00:32:46+00:00</td>\n",
       "      <td>elonmusk</td>\n",
       "      <td>@snjejxjbbdbebjx Would be unwise to risk that ...</td>\n",
       "    </tr>\n",
       "    <tr>\n",
       "      <th>4</th>\n",
       "      <td>2022-07-29 00:31:32+00:00</td>\n",
       "      <td>elonmusk</td>\n",
       "      <td>More Tesla commodity prices are trending down ...</td>\n",
       "    </tr>\n",
       "  </tbody>\n",
       "</table>\n",
       "</div>"
      ],
      "text/plain": [
       "                       Date      User  \\\n",
       "0 2022-07-29 00:37:02+00:00  elonmusk   \n",
       "1 2022-07-29 00:34:55+00:00  elonmusk   \n",
       "2 2022-07-29 00:33:30+00:00  elonmusk   \n",
       "3 2022-07-29 00:32:46+00:00  elonmusk   \n",
       "4 2022-07-29 00:31:32+00:00  elonmusk   \n",
       "\n",
       "                                               Tweet  \n",
       "0        @chicago_glenn We should thank farmers more  \n",
       "1    @WholeMarsBlog Products that bring joy are rare  \n",
       "2           @teslaownersSV Too early to say for sure  \n",
       "3  @snjejxjbbdbebjx Would be unwise to risk that ...  \n",
       "4  More Tesla commodity prices are trending down ...  "
      ]
     },
     "metadata": {},
     "output_type": "display_data"
    },
    {
     "data": {
      "text/html": [
       "<div>\n",
       "<style scoped>\n",
       "    .dataframe tbody tr th:only-of-type {\n",
       "        vertical-align: middle;\n",
       "    }\n",
       "\n",
       "    .dataframe tbody tr th {\n",
       "        vertical-align: top;\n",
       "    }\n",
       "\n",
       "    .dataframe thead th {\n",
       "        text-align: right;\n",
       "    }\n",
       "</style>\n",
       "<table border=\"1\" class=\"dataframe\">\n",
       "  <thead>\n",
       "    <tr style=\"text-align: right;\">\n",
       "      <th></th>\n",
       "      <th>Date</th>\n",
       "      <th>User</th>\n",
       "      <th>Tweet</th>\n",
       "    </tr>\n",
       "  </thead>\n",
       "  <tbody>\n",
       "    <tr>\n",
       "      <th>0</th>\n",
       "      <td>2022-07-29 03:06:09+00:00</td>\n",
       "      <td>binance</td>\n",
       "      <td>#Binance Liquid Swap adds $DOGE/ $BUSD, $LINK/...</td>\n",
       "    </tr>\n",
       "    <tr>\n",
       "      <th>1</th>\n",
       "      <td>2022-07-29 02:03:31+00:00</td>\n",
       "      <td>binance</td>\n",
       "      <td>#Binance completes @tusdio $TUSD TRC20 network...</td>\n",
       "    </tr>\n",
       "  </tbody>\n",
       "</table>\n",
       "</div>"
      ],
      "text/plain": [
       "                       Date     User  \\\n",
       "0 2022-07-29 03:06:09+00:00  binance   \n",
       "1 2022-07-29 02:03:31+00:00  binance   \n",
       "\n",
       "                                               Tweet  \n",
       "0  #Binance Liquid Swap adds $DOGE/ $BUSD, $LINK/...  \n",
       "1  #Binance completes @tusdio $TUSD TRC20 network...  "
      ]
     },
     "metadata": {},
     "output_type": "display_data"
    },
    {
     "data": {
      "text/plain": [
       "'htag_follower : coinbase'"
      ]
     },
     "metadata": {},
     "output_type": "display_data"
    },
    {
     "data": {
      "text/plain": [
       "'until : 2023-01-01'"
      ]
     },
     "metadata": {},
     "output_type": "display_data"
    },
    {
     "data": {
      "text/plain": [
       "'since : 2021-01-01'"
      ]
     },
     "metadata": {},
     "output_type": "display_data"
    },
    {
     "data": {
      "text/plain": [
       "'limit : 2'"
      ]
     },
     "metadata": {},
     "output_type": "display_data"
    },
    {
     "data": {
      "text/html": [
       "<div>\n",
       "<style scoped>\n",
       "    .dataframe tbody tr th:only-of-type {\n",
       "        vertical-align: middle;\n",
       "    }\n",
       "\n",
       "    .dataframe tbody tr th {\n",
       "        vertical-align: top;\n",
       "    }\n",
       "\n",
       "    .dataframe thead th {\n",
       "        text-align: right;\n",
       "    }\n",
       "</style>\n",
       "<table border=\"1\" class=\"dataframe\">\n",
       "  <thead>\n",
       "    <tr style=\"text-align: right;\">\n",
       "      <th></th>\n",
       "      <th>Date</th>\n",
       "      <th>User</th>\n",
       "      <th>Tweet</th>\n",
       "    </tr>\n",
       "  </thead>\n",
       "  <tbody>\n",
       "    <tr>\n",
       "      <th>0</th>\n",
       "      <td>2022-07-28 19:52:53+00:00</td>\n",
       "      <td>coinbase</td>\n",
       "      <td>Not all stablecoins are created equal. Underst...</td>\n",
       "    </tr>\n",
       "    <tr>\n",
       "      <th>1</th>\n",
       "      <td>2022-07-27 00:28:19+00:00</td>\n",
       "      <td>coinbase</td>\n",
       "      <td>https://t.co/WBQPRTbqDC https://t.co/rxc3r8XuRe</td>\n",
       "    </tr>\n",
       "  </tbody>\n",
       "</table>\n",
       "</div>"
      ],
      "text/plain": [
       "                       Date      User  \\\n",
       "0 2022-07-28 19:52:53+00:00  coinbase   \n",
       "1 2022-07-27 00:28:19+00:00  coinbase   \n",
       "\n",
       "                                               Tweet  \n",
       "0  Not all stablecoins are created equal. Underst...  \n",
       "1    https://t.co/WBQPRTbqDC https://t.co/rxc3r8XuRe  "
      ]
     },
     "metadata": {},
     "output_type": "display_data"
    }
   ],
   "source": [
    "#Test value default\n",
    "test_tweet = tweet()\n",
    "df = test_tweet.get_tweets()\n",
    "display(df.head(5))\n",
    "\n",
    "#Test with initialization\n",
    "test_tweet = tweet(htag_follower = 'binance', until= '2023-01-01' , since='2021-01-01', limit = 2)\n",
    "df = test_tweet.get_tweets()\n",
    "display(df.head(5))\n",
    "\n",
    "#Test setter\n",
    "test_tweet.set_htag_follower('coinbase')\n",
    "test_tweet.set_until('2023-01-01') \n",
    "test_tweet.set_since('2021-01-01')\n",
    "test_tweet.set_limit(2)\n",
    "\n",
    "#Test getter \n",
    "display(\"htag_follower : \" + test_tweet.get_htag_follower()) \n",
    "display(\"until : \" + test_tweet.get_until()) \n",
    "display(\"since : \" + test_tweet.get_since()) \n",
    "display(\"limit : \" + str(test_tweet.get_limit())) \n",
    "df = test_tweet.get_tweets()\n",
    "display(df.head(5))"
   ]
  },
  {
   "cell_type": "code",
   "execution_count": 5,
   "id": "8fbc7205",
   "metadata": {},
   "outputs": [
    {
     "data": {
      "text/html": [
       "<div>\n",
       "<style scoped>\n",
       "    .dataframe tbody tr th:only-of-type {\n",
       "        vertical-align: middle;\n",
       "    }\n",
       "\n",
       "    .dataframe tbody tr th {\n",
       "        vertical-align: top;\n",
       "    }\n",
       "\n",
       "    .dataframe thead th {\n",
       "        text-align: right;\n",
       "    }\n",
       "</style>\n",
       "<table border=\"1\" class=\"dataframe\">\n",
       "  <thead>\n",
       "    <tr style=\"text-align: right;\">\n",
       "      <th></th>\n",
       "      <th>User</th>\n",
       "      <th>Tweet</th>\n",
       "    </tr>\n",
       "    <tr>\n",
       "      <th>Date</th>\n",
       "      <th></th>\n",
       "      <th></th>\n",
       "    </tr>\n",
       "  </thead>\n",
       "  <tbody>\n",
       "    <tr>\n",
       "      <th>2022-07-28 19:52:53+00:00</th>\n",
       "      <td>coinbase</td>\n",
       "      <td>Not all stablecoins are created equal. Underst...</td>\n",
       "    </tr>\n",
       "    <tr>\n",
       "      <th>2022-07-27 00:28:19+00:00</th>\n",
       "      <td>coinbase</td>\n",
       "      <td>https://t.co/WBQPRTbqDC https://t.co/rxc3r8XuRe</td>\n",
       "    </tr>\n",
       "  </tbody>\n",
       "</table>\n",
       "</div>"
      ],
      "text/plain": [
       "                               User  \\\n",
       "Date                                  \n",
       "2022-07-28 19:52:53+00:00  coinbase   \n",
       "2022-07-27 00:28:19+00:00  coinbase   \n",
       "\n",
       "                                                                       Tweet  \n",
       "Date                                                                          \n",
       "2022-07-28 19:52:53+00:00  Not all stablecoins are created equal. Underst...  \n",
       "2022-07-27 00:28:19+00:00    https://t.co/WBQPRTbqDC https://t.co/rxc3r8XuRe  "
      ]
     },
     "execution_count": 5,
     "metadata": {},
     "output_type": "execute_result"
    }
   ],
   "source": [
    "df.set_index(\"Date\", inplace = True)\n",
    "df"
   ]
  },
  {
   "cell_type": "code",
   "execution_count": 5,
   "id": "f17f6acf",
   "metadata": {},
   "outputs": [],
   "source": [
    "snapshotdate = datetime.datetime.today().strftime(\"%m-%d-%Y_%H-%M-%S\")\n",
    "df_clean.to_csv('../data/tweets_' + snapshotdate +'.csv', sep='\\t', encoding='utf-8')"
   ]
  }
 ],
 "metadata": {
  "kernelspec": {
   "display_name": "Python 3 (ipykernel)",
   "language": "python",
   "name": "python3"
  },
  "language_info": {
   "codemirror_mode": {
    "name": "ipython",
    "version": 3
   },
   "file_extension": ".py",
   "mimetype": "text/x-python",
   "name": "python",
   "nbconvert_exporter": "python",
   "pygments_lexer": "ipython3",
   "version": "3.9.7"
  }
 },
 "nbformat": 4,
 "nbformat_minor": 5
}
