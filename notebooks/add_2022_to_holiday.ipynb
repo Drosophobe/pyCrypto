{
 "cells": [
  {
   "cell_type": "code",
   "execution_count": 1,
   "id": "6da89b0f",
   "metadata": {},
   "outputs": [],
   "source": [
    "import pandas as pd"
   ]
  },
  {
   "cell_type": "code",
   "execution_count": 62,
   "id": "85391103",
   "metadata": {},
   "outputs": [
    {
     "data": {
      "text/plain": [
       "(342, 5)"
      ]
     },
     "execution_count": 62,
     "metadata": {},
     "output_type": "execute_result"
    }
   ],
   "source": [
    "holiday_2021_df = pd.read_csv('data/US Holiday Dates (2004-2021).csv', index_col=0, parse_dates=[0])\n",
    "holiday_2021_df.shape"
   ]
  },
  {
   "cell_type": "code",
   "execution_count": 9,
   "id": "18269276",
   "metadata": {},
   "outputs": [
    {
     "data": {
      "text/html": [
       "<div>\n",
       "<style scoped>\n",
       "    .dataframe tbody tr th:only-of-type {\n",
       "        vertical-align: middle;\n",
       "    }\n",
       "\n",
       "    .dataframe tbody tr th {\n",
       "        vertical-align: top;\n",
       "    }\n",
       "\n",
       "    .dataframe thead th {\n",
       "        text-align: right;\n",
       "    }\n",
       "</style>\n",
       "<table border=\"1\" class=\"dataframe\">\n",
       "  <thead>\n",
       "    <tr style=\"text-align: right;\">\n",
       "      <th></th>\n",
       "      <th>Holiday</th>\n",
       "      <th>WeekDay</th>\n",
       "      <th>Month</th>\n",
       "      <th>Day</th>\n",
       "      <th>Year</th>\n",
       "    </tr>\n",
       "    <tr>\n",
       "      <th>Date</th>\n",
       "      <th></th>\n",
       "      <th></th>\n",
       "      <th></th>\n",
       "      <th></th>\n",
       "      <th></th>\n",
       "    </tr>\n",
       "  </thead>\n",
       "  <tbody>\n",
       "    <tr>\n",
       "      <th>2004-07-04</th>\n",
       "      <td>4th of July</td>\n",
       "      <td>Sunday</td>\n",
       "      <td>7</td>\n",
       "      <td>4</td>\n",
       "      <td>2004</td>\n",
       "    </tr>\n",
       "    <tr>\n",
       "      <th>2005-07-04</th>\n",
       "      <td>4th of July</td>\n",
       "      <td>Monday</td>\n",
       "      <td>7</td>\n",
       "      <td>4</td>\n",
       "      <td>2005</td>\n",
       "    </tr>\n",
       "    <tr>\n",
       "      <th>2006-07-04</th>\n",
       "      <td>4th of July</td>\n",
       "      <td>Tuesday</td>\n",
       "      <td>7</td>\n",
       "      <td>4</td>\n",
       "      <td>2006</td>\n",
       "    </tr>\n",
       "    <tr>\n",
       "      <th>2007-07-04</th>\n",
       "      <td>4th of July</td>\n",
       "      <td>Wednesday</td>\n",
       "      <td>7</td>\n",
       "      <td>4</td>\n",
       "      <td>2007</td>\n",
       "    </tr>\n",
       "    <tr>\n",
       "      <th>2008-07-04</th>\n",
       "      <td>4th of July</td>\n",
       "      <td>Friday</td>\n",
       "      <td>7</td>\n",
       "      <td>4</td>\n",
       "      <td>2008</td>\n",
       "    </tr>\n",
       "  </tbody>\n",
       "</table>\n",
       "</div>"
      ],
      "text/plain": [
       "                Holiday    WeekDay  Month  Day  Year\n",
       "Date                                                \n",
       "2004-07-04  4th of July     Sunday      7    4  2004\n",
       "2005-07-04  4th of July     Monday      7    4  2005\n",
       "2006-07-04  4th of July    Tuesday      7    4  2006\n",
       "2007-07-04  4th of July  Wednesday      7    4  2007\n",
       "2008-07-04  4th of July     Friday      7    4  2008"
      ]
     },
     "execution_count": 9,
     "metadata": {},
     "output_type": "execute_result"
    }
   ],
   "source": [
    "holiday_2021_df.head()"
   ]
  },
  {
   "cell_type": "code",
   "execution_count": 8,
   "id": "73612707",
   "metadata": {},
   "outputs": [
    {
     "data": {
      "text/plain": [
       "Labor Day Weekend              36\n",
       "4th of July                    18\n",
       "New Year's Day                 18\n",
       "Washington's Birthday          18\n",
       "Veterans Day                   18\n",
       "Valentine’s Day                18\n",
       "Thanksgiving Eve               18\n",
       "Thanksgiving Day               18\n",
       "New Year’s Eve                 18\n",
       "Memorial Day                   18\n",
       "Christmas Day                  18\n",
       "Martin Luther King, Jr. Day    18\n",
       "Labor Day                      18\n",
       "Juneteenth                     18\n",
       "Eastern Easter                 18\n",
       "Columbus Day                   18\n",
       "Christmas Eve                  18\n",
       "Western Easter                 18\n",
       "Name: Holiday, dtype: int64"
      ]
     },
     "execution_count": 8,
     "metadata": {},
     "output_type": "execute_result"
    }
   ],
   "source": [
    "holiday_2021['Holiday'].value_counts()\n",
    "# Martin Luther King, Jr. Day : 17 janv. 2022\n",
    "# 4th of July :  lun. 4 juil. 2022\n",
    "# Juneteenth :dim. 19 juin 2022\n",
    "# Christmas Eve :  lun. 24 déc. 2022\n",
    "# New Year's Day : 01 01 2022\n",
    "# Washington's Birthday  : 21 02 2022\n",
    "# Veterans Day : 11 11 2022\n",
    "# Valentine’s Day 14 02 2022\n",
    "# Thanksgiving Eve  : 23 11 2022\n",
    "# Thanksgiving Day : 24 11 2022\n",
    "# New Year’s Eve : 31 12 2022\n",
    "# Memorial Day  : 30 05 2022\n",
    "# Christmas Day : 25 12 : 2022\n",
    "# Labor Day : 05 09 2022\n",
    "# Eastern Easter : 24 04 2022\n",
    "# Columbus Day : 10 10 2022\n",
    "# Western Easter 17 04 2022"
   ]
  },
  {
   "cell_type": "code",
   "execution_count": 55,
   "id": "b66f7457",
   "metadata": {},
   "outputs": [],
   "source": [
    "holiday_2022_dic = {\n",
    "    \"2022-01-17\": [\"Martin Luther King, Jr. Day\", \"Monday\", 1, 17, 2022],\n",
    "    \"2022-07-04\": ['4th of July', 'Monday', 7, 4, 2022],\n",
    "    \"2022-06-19\": [\"Juneteenth\", \"Sunday\", 6, 19, 2022],\n",
    "    \"2022-12-24\": ['Christmas Eve', \"Monday\", 12, 24, 2022],\n",
    "    \"2022-01-01\": ['New Year\\'s Day', 'Saturday', 1, 1, 2022],\n",
    "    \"2022-02-21\": [\"Washington's Birthday\", \"Thuesday\", 2, 21, 2022],\n",
    "    \"2022-11-11\": [\"Veterans Day\", \"Friday\", 11, 11, 2022],\n",
    "    \"2022-02-14\": [\"Valentine’s Day\", \"Monday\", 2, 14, 2022],\n",
    "    \"2022-11-23\": [\"Thanksgiving Eve\", \"Wednesday\", 11, 23, 2022],\n",
    "    \"2022-11-24\": [\"Thanksgiving Day\", \"Thirsday\", 11, 24, 2022],\n",
    "    \"2022-12-31\": [\"New Year’s Eve\", \"Friday\", 12, 31, 2022],\n",
    "    \"2022-05-30\": [\"Memorial Day\", \"Monday\", 5, 30, 2022],\n",
    "    \"2022-12-25\": [\"Christmas Day\", \"Sunday\", 12, 25, 2022],\n",
    "    \"2022-09-05\": [\"Labor Day\", \"Saturday\", 9, 5, 2022],\n",
    "    \"2022-04-24\": [\"Eastern Easter\", \"Monday\", 4, 24, 2022],\n",
    "    \"2022-10-10\": [\"Columbus Day\", \"Thuesday\", 10, 10, 2022],\n",
    "    \"2022-04-17\": [\"Western Easter\", \"Monday\", 4, 17, 2022]\n",
    "    \n",
    "}"
   ]
  },
  {
   "cell_type": "code",
   "execution_count": 61,
   "id": "d534c502",
   "metadata": {},
   "outputs": [
    {
     "data": {
      "text/html": [
       "<div>\n",
       "<style scoped>\n",
       "    .dataframe tbody tr th:only-of-type {\n",
       "        vertical-align: middle;\n",
       "    }\n",
       "\n",
       "    .dataframe tbody tr th {\n",
       "        vertical-align: top;\n",
       "    }\n",
       "\n",
       "    .dataframe thead th {\n",
       "        text-align: right;\n",
       "    }\n",
       "</style>\n",
       "<table border=\"1\" class=\"dataframe\">\n",
       "  <thead>\n",
       "    <tr style=\"text-align: right;\">\n",
       "      <th></th>\n",
       "      <th>Holiday</th>\n",
       "      <th>WeekDay</th>\n",
       "      <th>Month</th>\n",
       "      <th>Day</th>\n",
       "      <th>Year</th>\n",
       "    </tr>\n",
       "  </thead>\n",
       "  <tbody>\n",
       "    <tr>\n",
       "      <th>2022-01-17</th>\n",
       "      <td>Martin Luther King, Jr. Day</td>\n",
       "      <td>Monday</td>\n",
       "      <td>1</td>\n",
       "      <td>17</td>\n",
       "      <td>2022</td>\n",
       "    </tr>\n",
       "    <tr>\n",
       "      <th>2022-07-04</th>\n",
       "      <td>4th of July</td>\n",
       "      <td>Monday</td>\n",
       "      <td>7</td>\n",
       "      <td>4</td>\n",
       "      <td>2022</td>\n",
       "    </tr>\n",
       "    <tr>\n",
       "      <th>2022-06-19</th>\n",
       "      <td>Juneteenth</td>\n",
       "      <td>Sunday</td>\n",
       "      <td>6</td>\n",
       "      <td>19</td>\n",
       "      <td>2022</td>\n",
       "    </tr>\n",
       "    <tr>\n",
       "      <th>2022-12-24</th>\n",
       "      <td>Christmas Eve</td>\n",
       "      <td>Monday</td>\n",
       "      <td>12</td>\n",
       "      <td>24</td>\n",
       "      <td>2022</td>\n",
       "    </tr>\n",
       "    <tr>\n",
       "      <th>2022-01-01</th>\n",
       "      <td>New Year's Day</td>\n",
       "      <td>Saturday</td>\n",
       "      <td>1</td>\n",
       "      <td>1</td>\n",
       "      <td>2022</td>\n",
       "    </tr>\n",
       "  </tbody>\n",
       "</table>\n",
       "</div>"
      ],
      "text/plain": [
       "                                Holiday   WeekDay  Month  Day  Year\n",
       "2022-01-17  Martin Luther King, Jr. Day    Monday      1   17  2022\n",
       "2022-07-04                  4th of July    Monday      7    4  2022\n",
       "2022-06-19                   Juneteenth    Sunday      6   19  2022\n",
       "2022-12-24                Christmas Eve    Monday     12   24  2022\n",
       "2022-01-01               New Year's Day  Saturday      1    1  2022"
      ]
     },
     "execution_count": 61,
     "metadata": {},
     "output_type": "execute_result"
    }
   ],
   "source": [
    "holiday_2022_df = pd.DataFrame.from_dict(holiday_2022_dic, orient='index', columns=holiday_2021.columns)\n",
    "holiday_2022_df.index = pd.to_datetime(holiday_2022_df.index, errors='coerce')"
   ]
  },
  {
   "cell_type": "code",
   "execution_count": 68,
   "id": "d40c7895",
   "metadata": {},
   "outputs": [],
   "source": [
    "holidays_df = pd.concat([holiday_2021_df, holiday_2022_df])"
   ]
  },
  {
   "cell_type": "code",
   "execution_count": 69,
   "id": "d85561d3",
   "metadata": {},
   "outputs": [
    {
     "data": {
      "text/html": [
       "<div>\n",
       "<style scoped>\n",
       "    .dataframe tbody tr th:only-of-type {\n",
       "        vertical-align: middle;\n",
       "    }\n",
       "\n",
       "    .dataframe tbody tr th {\n",
       "        vertical-align: top;\n",
       "    }\n",
       "\n",
       "    .dataframe thead th {\n",
       "        text-align: right;\n",
       "    }\n",
       "</style>\n",
       "<table border=\"1\" class=\"dataframe\">\n",
       "  <thead>\n",
       "    <tr style=\"text-align: right;\">\n",
       "      <th></th>\n",
       "      <th>Holiday</th>\n",
       "      <th>WeekDay</th>\n",
       "      <th>Month</th>\n",
       "      <th>Day</th>\n",
       "      <th>Year</th>\n",
       "    </tr>\n",
       "  </thead>\n",
       "  <tbody>\n",
       "    <tr>\n",
       "      <th>2004-07-04</th>\n",
       "      <td>4th of July</td>\n",
       "      <td>Sunday</td>\n",
       "      <td>7</td>\n",
       "      <td>4</td>\n",
       "      <td>2004</td>\n",
       "    </tr>\n",
       "    <tr>\n",
       "      <th>2005-07-04</th>\n",
       "      <td>4th of July</td>\n",
       "      <td>Monday</td>\n",
       "      <td>7</td>\n",
       "      <td>4</td>\n",
       "      <td>2005</td>\n",
       "    </tr>\n",
       "    <tr>\n",
       "      <th>2006-07-04</th>\n",
       "      <td>4th of July</td>\n",
       "      <td>Tuesday</td>\n",
       "      <td>7</td>\n",
       "      <td>4</td>\n",
       "      <td>2006</td>\n",
       "    </tr>\n",
       "    <tr>\n",
       "      <th>2007-07-04</th>\n",
       "      <td>4th of July</td>\n",
       "      <td>Wednesday</td>\n",
       "      <td>7</td>\n",
       "      <td>4</td>\n",
       "      <td>2007</td>\n",
       "    </tr>\n",
       "    <tr>\n",
       "      <th>2008-07-04</th>\n",
       "      <td>4th of July</td>\n",
       "      <td>Friday</td>\n",
       "      <td>7</td>\n",
       "      <td>4</td>\n",
       "      <td>2008</td>\n",
       "    </tr>\n",
       "  </tbody>\n",
       "</table>\n",
       "</div>"
      ],
      "text/plain": [
       "                Holiday    WeekDay  Month  Day  Year\n",
       "2004-07-04  4th of July     Sunday      7    4  2004\n",
       "2005-07-04  4th of July     Monday      7    4  2005\n",
       "2006-07-04  4th of July    Tuesday      7    4  2006\n",
       "2007-07-04  4th of July  Wednesday      7    4  2007\n",
       "2008-07-04  4th of July     Friday      7    4  2008"
      ]
     },
     "execution_count": 69,
     "metadata": {},
     "output_type": "execute_result"
    }
   ],
   "source": [
    "holidays_df.head()"
   ]
  },
  {
   "cell_type": "code",
   "execution_count": 1,
   "id": "0e12c00c",
   "metadata": {},
   "outputs": [
    {
     "ename": "NameError",
     "evalue": "name 'df_holiday' is not defined",
     "output_type": "error",
     "traceback": [
      "\u001b[0;31m---------------------------------------------------------------------------\u001b[0m",
      "\u001b[0;31mNameError\u001b[0m                                 Traceback (most recent call last)",
      "\u001b[0;32m/var/folders/2m/j3dvm9jx2_nb2cdjtp62_c340000gn/T/ipykernel_1310/3877215280.py\u001b[0m in \u001b[0;36m<module>\u001b[0;34m\u001b[0m\n\u001b[0;32m----> 1\u001b[0;31m \u001b[0mdf_holiday\u001b[0m\u001b[0;34m.\u001b[0m\u001b[0mto_csv\u001b[0m\u001b[0;34m(\u001b[0m\u001b[0;34m'data/holidays_with_2022.csv'\u001b[0m\u001b[0;34m)\u001b[0m\u001b[0;34m\u001b[0m\u001b[0;34m\u001b[0m\u001b[0m\n\u001b[0m",
      "\u001b[0;31mNameError\u001b[0m: name 'df_holiday' is not defined"
     ]
    }
   ],
   "source": [
    "df_holiday.to_csv('data/holidays_with_2022.csv')"
   ]
  },
  {
   "cell_type": "code",
   "execution_count": null,
   "id": "eaeb4cae",
   "metadata": {},
   "outputs": [],
   "source": []
  }
 ],
 "metadata": {
  "kernelspec": {
   "display_name": "Python 3 (ipykernel)",
   "language": "python",
   "name": "python3"
  },
  "language_info": {
   "codemirror_mode": {
    "name": "ipython",
    "version": 3
   },
   "file_extension": ".py",
   "mimetype": "text/x-python",
   "name": "python",
   "nbconvert_exporter": "python",
   "pygments_lexer": "ipython3",
   "version": "3.9.9"
  }
 },
 "nbformat": 4,
 "nbformat_minor": 5
}
