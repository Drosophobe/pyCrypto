{
 "cells": [
  {
   "cell_type": "markdown",
   "id": "0ad40ffd-757b-4940-9edf-63d4f140a0d7",
   "metadata": {},
   "source": [
    "## Sprint 4\n",
    "\n",
    "1) Identifier 10 Scenari (Bonus : adjoindre les infos \"news\") (Pierre)\n",
    "\n",
    "2) Implémenter la fonctionnalité “Cash” : qui permet à nos algorithme de “sortir” l’argent du marché sur un compte cash sans rendement (Sofiane)  \n",
    "\n",
    "3) Analyser les metriques suivante :\n",
    "\n",
    "Profit factor (Ahmed)\n",
    "Sharpe ratio:   (Ahmed)\n",
    "Ulcer index   (Ahmed)\n",
    "Information ratio (wrt UCRP)   (Ahmed)\n",
    "UCRP sharpe   (Ahmed)\n",
    "Appraisal ratio (wrt UCRP)   (Ahmed)\n",
    "Beta / Alpha   (Ahmed)\n",
    "Annualized return   (Sofiane)\n",
    "Annualized volatility   (Sofiane)\n",
    "Longest drawdown   (Sofiane)\n",
    "Max drawdown    (Sofiane)\n",
    "Winning days   (Sofiane)\n",
    "Annual turnover   (Sofiane)\n",
    "\n",
    "4) Mettre en place une organisation interne,  a minima un daily meeting\n",
    "Méthode Agile\n",
    "\n",
    "5) Regarder la suite de Fibonacci pour juger la difficulté des tâches dans un planning pocker.\n",
    "\n",
    "Très facile et/ou court < 1 2 3 5 8 13 21 34 <  Difficile et/ou très long"
   ]
  },
  {
   "cell_type": "markdown",
   "id": "2c92ead3",
   "metadata": {},
   "source": [
    "# <center> Métrique en finance </center>"
   ]
  },
  {
   "cell_type": "markdown",
   "id": "8bd4bb3a",
   "metadata": {},
   "source": [
    "### Profit factor (Ahmed) :\n",
    "Le Profit Factor est un indicateur de performance. Il évalue le rapport entre les profits réalisés sur un portefeuille et les risques pris par le Trader.\n",
    "\n",
    "### <center> $Profit\\,Factor = \\frac{Somme\\,des\\,gains}{Somme\\,des\\,pertes} $ <center>\n",
    "\n",
    "Un système rentable a un profit factor supérieur à 1."
   ]
  },
  {
   "cell_type": "markdown",
   "id": "b3f2e9d1",
   "metadata": {},
   "source": [
    "### Le ratio de Sharpe (Ahmed) :\n",
    "Le ratio de Sharpe est un indicateur de risque permettant de mesurer de mesurer la rentabilité d'un portefeuille en \n",
    "fonction du risque pris.\n",
    "## <center> $S = \\frac{R_p - R_f}{\\sigma_p}$ <center>\n",
    "Un bon retio de Sharpe est supérieur à 1."
   ]
  },
  {
   "cell_type": "markdown",
   "id": "12179c2d",
   "metadata": {},
   "source": [
    "### Ulcer index   (Ahmed) :\n",
    "L’indice fournit une mesure de la volatilité d’un actif financier en comparant le point le plus haut atteint lors des dernières séances avec le cours actuel.\n",
    "De manière générale, quand les cours d’un actif montent, l’indice baisse et quand les cours baissent, le niveau de l’indice monte."
   ]
  },
  {
   "cell_type": "markdown",
   "id": "b350c6a7",
   "metadata": {},
   "source": [
    "### Information ratio  (Ahmed) :\n",
    "Le ratio d'information est utilisé pour évaluer la capacité d'un gestionnaire de portefeuille à générer des rendements supérieurs à un indice de référence donné.\n",
    "\n",
    "\n",
    "## <center> $IR = \\frac{Rendement\\,du\\,portefeuille - rendement\\,de\\,référence}{Ecart-type\\,de\\,différence}$ <center>\n",
    "\n",
    "Un résultat IR plus élevé implique un meilleur gestionnaire de portefeuille qui obtient un rendement supérieur à celui de l'indice de référence, compte tenu du risque pris."
   ]
  },
  {
   "cell_type": "markdown",
   "id": "261bdb06",
   "metadata": {},
   "source": [
    "### Appraisal ratio  (Ahmed)\n",
    "Un ratio d'évaluation (Appraisal ratio) est un ratio utilisé pour mesurer la qualité de la capacité de sélection des investissements d'un gestionnaire de fonds.\n",
    "## <center> $Ratio\\,d'évaluation = \\frac{Alpha}{Risque\\,non\\,systématique}$ \n",
    "Plus le ratio est élevé, meilleure est la performance du gestionnaire en question."
   ]
  },
  {
   "cell_type": "markdown",
   "id": "c8932f24",
   "metadata": {},
   "source": [
    "### Beta (Ahmed) :\n",
    "Le bêta est une statistique qui indique la relation entre les variations de notre portefeuille et celles du marché qui est représenté par un indice (par exemple SP500).\n",
    "## <center> $\\beta = \\frac{Cov(r_{Marché},r_{Portefeuille})}{Var(r_M)}$\n",
    "\n",
    "Un bon indice beta est inferieur à 1"
   ]
  },
  {
   "cell_type": "markdown",
   "id": "a605f2b5",
   "metadata": {},
   "source": [
    "### Alpha (Ahmed) :\n",
    "L'Alpha est une statistique qui indique si le portefeuille surpasse le marché en termes de rendement du risque .\n",
    "## <center> $\\alpha = r_{PF} - \\beta * (r_{PF} - r_{f})$\n",
    "$\\alpha > 0 $ signifie que le portefeuille superforme le marché en terme de rendement risque ."
   ]
  },
  {
   "cell_type": "markdown",
   "id": "3e82d047-9aa3-47fe-a859-265d4dc64e36",
   "metadata": {},
   "source": [
    "## 3) Analyser les metriques suivante :\n",
    "\n",
    "### UCRP sharpe   (Hamed)\n",
    "### Annualized return   (Sofiane)\n",
    "\n",
    "Désigne le taux de rendement annuel obtenu sur un dépôt ou une mise.\n",
    "### Annualized volatility   (Sofiane)\n",
    "\n",
    "Pour annualiser la volatilité, il est nécessaire de mesurer la volatilité sur une période plus courte et de l'extrapoler sur une année. C'est très similaire à l'annualisation des rendements : composer les rendements d'une courte période pour montrer ce que les rendements seraient hypothétiquement pour une année. En d'autres termes, l'annualisation d'un chiffre suppose que les observations faites sur une courte période se poursuivront sur une année.\n",
    "### Longest drawdown   (Sofiane)\n",
    "\n",
    "La durée du drawdown est la durée de toute période de pic à pic, ou la durée entre les nouveaux sommets des actions.\n",
    "La durée maximale du drawdown est la pire (la plus longue) période qu'un investissement a connue entre deux pics (sommets des actions).\n",
    "### Max drawdown    (Sofiane)\n",
    "\n",
    "Le maximum drawdown (MDD) est la perte maximale observée entre un pic et un creux d'un portefeuille, avant qu'un nouveau pic ne soit atteint. Le maximum drawdown est un indicateur du risque de baisse sur une période donnée.\n",
    "### Winning days   (Sofiane)\n",
    "\n",
    "Gain ou perte journalière\n",
    "### Annual turnover   (Sofiane)\n",
    "\n",
    "Le taux de rotation annuel est le pourcentage auquel quelque chose change de propriétaire au cours d'une année. Pour une entreprise, ce taux peut être lié à la rotation annuelle de ses stocks, de ses comptes clients, de ses comptes fournisseurs ou de ses actifs.\n",
    "\n",
    "Source :\n",
    "\n",
    "https://learn.bybit.com/investing/what-is-apy-in-crypto/\n",
    "https://study.com/academy/lesson/annualized-volatility-definition-formula.html\n",
    "https://www.investopedia.com/terms/m/maximum-drawdown-mdd.asp#:~:text=A%20maximum%20drawdown%20(MDD)%20is,over%20a%20specified%20time%20period.\n",
    "https://www.investopedia.com/terms/a/annual-turnover.asp#:~:text=Annual%20turnover%20is%20the%20percentage,receivables%2C%20payables%2C%20or%20assets."
   ]
  },
  {
   "cell_type": "markdown",
   "id": "2c0b383b",
   "metadata": {},
   "source": []
  },
  {
   "cell_type": "code",
   "execution_count": null,
   "id": "8f3d396a",
   "metadata": {},
   "outputs": [],
   "source": []
  }
 ],
 "metadata": {
  "kernelspec": {
   "display_name": "Python 3 (ipykernel)",
   "language": "python",
   "name": "python3"
  },
  "language_info": {
   "codemirror_mode": {
    "name": "ipython",
    "version": 3
   },
   "file_extension": ".py",
   "mimetype": "text/x-python",
   "name": "python",
   "nbconvert_exporter": "python",
   "pygments_lexer": "ipython3",
   "version": "3.9.12"
  }
 },
 "nbformat": 4,
 "nbformat_minor": 5
}
