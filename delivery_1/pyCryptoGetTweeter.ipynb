{
 "cells": [
  {
   "cell_type": "code",
   "execution_count": 1,
   "id": "3b19c0bf",
   "metadata": {},
   "outputs": [
    {
     "name": "stdout",
     "output_type": "stream",
     "text": [
      "Defaulting to user installation because normal site-packages is not writeable\n",
      "Requirement already satisfied: snscrape in c:\\users\\selim\\appdata\\roaming\\python\\python39\\site-packages (0.4.3.20220106)\n",
      "Requirement already satisfied: filelock in c:\\programdata\\anaconda3\\lib\\site-packages (from snscrape) (3.6.0)\n",
      "Requirement already satisfied: beautifulsoup4 in c:\\programdata\\anaconda3\\lib\\site-packages (from snscrape) (4.11.1)\n",
      "Requirement already satisfied: requests[socks] in c:\\programdata\\anaconda3\\lib\\site-packages (from snscrape) (2.27.1)\n",
      "Requirement already satisfied: lxml in c:\\programdata\\anaconda3\\lib\\site-packages (from snscrape) (4.8.0)\n",
      "Requirement already satisfied: soupsieve>1.2 in c:\\programdata\\anaconda3\\lib\\site-packages (from beautifulsoup4->snscrape) (2.3.1)\n",
      "Requirement already satisfied: certifi>=2017.4.17 in c:\\programdata\\anaconda3\\lib\\site-packages (from requests[socks]->snscrape) (2021.10.8)\n",
      "Requirement already satisfied: charset-normalizer~=2.0.0 in c:\\programdata\\anaconda3\\lib\\site-packages (from requests[socks]->snscrape) (2.0.4)\n",
      "Requirement already satisfied: urllib3<1.27,>=1.21.1 in c:\\programdata\\anaconda3\\lib\\site-packages (from requests[socks]->snscrape) (1.26.9)\n",
      "Requirement already satisfied: idna<4,>=2.5 in c:\\programdata\\anaconda3\\lib\\site-packages (from requests[socks]->snscrape) (3.3)\n",
      "Requirement already satisfied: PySocks!=1.5.7,>=1.5.6 in c:\\programdata\\anaconda3\\lib\\site-packages (from requests[socks]->snscrape) (1.7.1)\n"
     ]
    }
   ],
   "source": [
    "!pip install snscrape"
   ]
  },
  {
   "cell_type": "code",
   "execution_count": 2,
   "id": "6a1484b8",
   "metadata": {},
   "outputs": [],
   "source": [
    "import snscrape.modules.twitter as sntwitter\n",
    "import pandas as pd"
   ]
  },
  {
   "cell_type": "code",
   "execution_count": 5,
   "id": "e4e7fa9d",
   "metadata": {},
   "outputs": [],
   "source": [
    "class tweet:\n",
    "    def __init__(self, htag_follower = 'elonmusk' , until= '2023-01-01' , since='2022-01-01', limit = 10):\n",
    "         self._htag_follower = htag_follower\n",
    "         self._until = until\n",
    "         self._since = since\n",
    "         self._limit = limit\n",
    "      \n",
    "    # getter method\n",
    "    def get_htag_follower(self):\n",
    "        return self._htag_follower\n",
    "      \n",
    "    # setter method\n",
    "    def set_htag_follower(self, x):\n",
    "        self._htag_follower = x\n",
    "\n",
    "    # getter method\n",
    "    def get_until(self):\n",
    "        return self._until\n",
    "      \n",
    "    # setter method\n",
    "    def set_until(self, x):\n",
    "        self._until = x\n",
    "  \n",
    "    # getter method\n",
    "    def get_since(self):\n",
    "        return self._since\n",
    "      \n",
    "    # setter method\n",
    "    def set_since(self, x):\n",
    "        self._since = x\n",
    "\n",
    "    # getter method\n",
    "    def get_limit(self):\n",
    "        return self._limit\n",
    "      \n",
    "    # setter method\n",
    "    def set_limit(self, x):\n",
    "        self._limit = x\n",
    "    \n",
    "    def get_tweets(self):\n",
    "      query = \"(from:\" +  self._htag_follower + \") until:\" +  self._until + \" since:\" +  self._since\n",
    "      tweets = []\n",
    "      limit = self._limit\n",
    "      for tweet in sntwitter.TwitterSearchScraper(query).get_items():\n",
    "        # print(vars(tweet))\n",
    "        # break\n",
    "        if len(tweets) == limit:\n",
    "            break\n",
    "        else:\n",
    "            tweets.append([tweet.date, tweet.user.username, tweet.content])\n",
    "\n",
    "      return pd.DataFrame(tweets, columns=['Date', 'User', 'Tweet'])"
   ]
  },
  {
   "cell_type": "code",
   "execution_count": 6,
   "id": "db1eb42e",
   "metadata": {},
   "outputs": [
    {
     "data": {
      "text/html": [
       "<div>\n",
       "<style scoped>\n",
       "    .dataframe tbody tr th:only-of-type {\n",
       "        vertical-align: middle;\n",
       "    }\n",
       "\n",
       "    .dataframe tbody tr th {\n",
       "        vertical-align: top;\n",
       "    }\n",
       "\n",
       "    .dataframe thead th {\n",
       "        text-align: right;\n",
       "    }\n",
       "</style>\n",
       "<table border=\"1\" class=\"dataframe\">\n",
       "  <thead>\n",
       "    <tr style=\"text-align: right;\">\n",
       "      <th></th>\n",
       "      <th>Date</th>\n",
       "      <th>User</th>\n",
       "      <th>Tweet</th>\n",
       "    </tr>\n",
       "  </thead>\n",
       "  <tbody>\n",
       "    <tr>\n",
       "      <th>0</th>\n",
       "      <td>2022-07-18 14:18:56+00:00</td>\n",
       "      <td>elonmusk</td>\n",
       "      <td>@Rainmaker1973 I use this example a lot</td>\n",
       "    </tr>\n",
       "    <tr>\n",
       "      <th>1</th>\n",
       "      <td>2022-07-18 14:17:12+00:00</td>\n",
       "      <td>elonmusk</td>\n",
       "      <td>@TJ_Cooney @SpaceX Starlink bandwidth varies a...</td>\n",
       "    </tr>\n",
       "    <tr>\n",
       "      <th>2</th>\n",
       "      <td>2022-07-18 14:08:56+00:00</td>\n",
       "      <td>elonmusk</td>\n",
       "      <td>@TJ_Cooney @SpaceX Starlink is a gamechanger f...</td>\n",
       "    </tr>\n",
       "    <tr>\n",
       "      <th>3</th>\n",
       "      <td>2022-07-16 03:48:29+00:00</td>\n",
       "      <td>elonmusk</td>\n",
       "      <td>@topherAlba26 @itsALLrisky @BillyM2k @MilgateT...</td>\n",
       "    </tr>\n",
       "    <tr>\n",
       "      <th>4</th>\n",
       "      <td>2022-07-16 01:40:47+00:00</td>\n",
       "      <td>elonmusk</td>\n",
       "      <td>@NASAEarth Global _______</td>\n",
       "    </tr>\n",
       "  </tbody>\n",
       "</table>\n",
       "</div>"
      ],
      "text/plain": [
       "                       Date      User  \\\n",
       "0 2022-07-18 14:18:56+00:00  elonmusk   \n",
       "1 2022-07-18 14:17:12+00:00  elonmusk   \n",
       "2 2022-07-18 14:08:56+00:00  elonmusk   \n",
       "3 2022-07-16 03:48:29+00:00  elonmusk   \n",
       "4 2022-07-16 01:40:47+00:00  elonmusk   \n",
       "\n",
       "                                               Tweet  \n",
       "0            @Rainmaker1973 I use this example a lot  \n",
       "1  @TJ_Cooney @SpaceX Starlink bandwidth varies a...  \n",
       "2  @TJ_Cooney @SpaceX Starlink is a gamechanger f...  \n",
       "3  @topherAlba26 @itsALLrisky @BillyM2k @MilgateT...  \n",
       "4                          @NASAEarth Global _______  "
      ]
     },
     "metadata": {},
     "output_type": "display_data"
    },
    {
     "data": {
      "text/html": [
       "<div>\n",
       "<style scoped>\n",
       "    .dataframe tbody tr th:only-of-type {\n",
       "        vertical-align: middle;\n",
       "    }\n",
       "\n",
       "    .dataframe tbody tr th {\n",
       "        vertical-align: top;\n",
       "    }\n",
       "\n",
       "    .dataframe thead th {\n",
       "        text-align: right;\n",
       "    }\n",
       "</style>\n",
       "<table border=\"1\" class=\"dataframe\">\n",
       "  <thead>\n",
       "    <tr style=\"text-align: right;\">\n",
       "      <th></th>\n",
       "      <th>Date</th>\n",
       "      <th>User</th>\n",
       "      <th>Tweet</th>\n",
       "    </tr>\n",
       "  </thead>\n",
       "  <tbody>\n",
       "    <tr>\n",
       "      <th>0</th>\n",
       "      <td>2022-07-18 14:40:39+00:00</td>\n",
       "      <td>binance</td>\n",
       "      <td>Loving the flowers @Cyrillf2!\\n \\nWant a #Bina...</td>\n",
       "    </tr>\n",
       "    <tr>\n",
       "      <th>1</th>\n",
       "      <td>2022-07-18 13:08:49+00:00</td>\n",
       "      <td>binance</td>\n",
       "      <td>Stablecoin transparency matters. A lot. \\n\\nTh...</td>\n",
       "    </tr>\n",
       "  </tbody>\n",
       "</table>\n",
       "</div>"
      ],
      "text/plain": [
       "                       Date     User  \\\n",
       "0 2022-07-18 14:40:39+00:00  binance   \n",
       "1 2022-07-18 13:08:49+00:00  binance   \n",
       "\n",
       "                                               Tweet  \n",
       "0  Loving the flowers @Cyrillf2!\\n \\nWant a #Bina...  \n",
       "1  Stablecoin transparency matters. A lot. \\n\\nTh...  "
      ]
     },
     "metadata": {},
     "output_type": "display_data"
    },
    {
     "data": {
      "text/plain": [
       "'htag_follower : coinbase'"
      ]
     },
     "metadata": {},
     "output_type": "display_data"
    },
    {
     "data": {
      "text/plain": [
       "'until : 2023-01-01'"
      ]
     },
     "metadata": {},
     "output_type": "display_data"
    },
    {
     "data": {
      "text/plain": [
       "'since : 2021-01-01'"
      ]
     },
     "metadata": {},
     "output_type": "display_data"
    },
    {
     "data": {
      "text/plain": [
       "'limit : 2'"
      ]
     },
     "metadata": {},
     "output_type": "display_data"
    },
    {
     "data": {
      "text/html": [
       "<div>\n",
       "<style scoped>\n",
       "    .dataframe tbody tr th:only-of-type {\n",
       "        vertical-align: middle;\n",
       "    }\n",
       "\n",
       "    .dataframe tbody tr th {\n",
       "        vertical-align: top;\n",
       "    }\n",
       "\n",
       "    .dataframe thead th {\n",
       "        text-align: right;\n",
       "    }\n",
       "</style>\n",
       "<table border=\"1\" class=\"dataframe\">\n",
       "  <thead>\n",
       "    <tr style=\"text-align: right;\">\n",
       "      <th></th>\n",
       "      <th>Date</th>\n",
       "      <th>User</th>\n",
       "      <th>Tweet</th>\n",
       "    </tr>\n",
       "  </thead>\n",
       "  <tbody>\n",
       "    <tr>\n",
       "      <th>0</th>\n",
       "      <td>2022-07-15 18:01:31+00:00</td>\n",
       "      <td>coinbase</td>\n",
       "      <td>Own a piece of Bill Murray's legendary story, ...</td>\n",
       "    </tr>\n",
       "    <tr>\n",
       "      <th>1</th>\n",
       "      <td>2022-07-15 18:01:31+00:00</td>\n",
       "      <td>coinbase</td>\n",
       "      <td>Launching Soon: Our first-ever drop on @Coinba...</td>\n",
       "    </tr>\n",
       "  </tbody>\n",
       "</table>\n",
       "</div>"
      ],
      "text/plain": [
       "                       Date      User  \\\n",
       "0 2022-07-15 18:01:31+00:00  coinbase   \n",
       "1 2022-07-15 18:01:31+00:00  coinbase   \n",
       "\n",
       "                                               Tweet  \n",
       "0  Own a piece of Bill Murray's legendary story, ...  \n",
       "1  Launching Soon: Our first-ever drop on @Coinba...  "
      ]
     },
     "metadata": {},
     "output_type": "display_data"
    }
   ],
   "source": [
    "#Test value default\n",
    "test_tweet = tweet()\n",
    "df = test_tweet.get_tweets()\n",
    "display(df.head(5))\n",
    "\n",
    "#Test with initialization\n",
    "test_tweet = tweet(htag_follower = 'binance', until= '2023-01-01' , since='2021-01-01', limit = 2)\n",
    "df = test_tweet.get_tweets()\n",
    "display(df.head(5))\n",
    "\n",
    "#Test setter\n",
    "test_tweet.set_htag_follower('coinbase')\n",
    "test_tweet.set_until('2023-01-01') \n",
    "test_tweet.set_since('2021-01-01')\n",
    "test_tweet.set_limit(2)\n",
    "\n",
    "#Test getter \n",
    "display(\"htag_follower : \" + test_tweet.get_htag_follower()) \n",
    "display(\"until : \" + test_tweet.get_until()) \n",
    "display(\"since : \" + test_tweet.get_since()) \n",
    "display(\"limit : \" + str(test_tweet.get_limit())) \n",
    "df = test_tweet.get_tweets()\n",
    "display(df.head(5))"
   ]
  },
  {
   "cell_type": "code",
   "execution_count": null,
   "id": "f17f6acf",
   "metadata": {},
   "outputs": [],
   "source": []
  }
 ],
 "metadata": {
  "kernelspec": {
   "display_name": "Python 3 (ipykernel)",
   "language": "python",
   "name": "python3"
  },
  "language_info": {
   "codemirror_mode": {
    "name": "ipython",
    "version": 3
   },
   "file_extension": ".py",
   "mimetype": "text/x-python",
   "name": "python",
   "nbconvert_exporter": "python",
   "pygments_lexer": "ipython3",
   "version": "3.9.12"
  }
 },
 "nbformat": 4,
 "nbformat_minor": 5
}
