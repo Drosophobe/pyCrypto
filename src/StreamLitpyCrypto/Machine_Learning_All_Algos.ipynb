{
 "cells": [
  {
   "cell_type": "code",
   "execution_count": 29,
   "id": "c4e598ca",
   "metadata": {},
   "outputs": [],
   "source": [
    "import pandas as pd \n",
    "import numpy as np \n",
    "import os\n",
    "import matplotlib.pyplot as plt \n",
    "import matplotlib.patches as mpatches\n",
    "pd.set_option('display.max_rows', 500)\n",
    "import seaborn as sns\n",
    "import warnings \n",
    "warnings.filterwarnings('ignore')\n",
    "ma_palette = ['#FF8B33', '#BB33FF']\n",
    "sns.set_palette(ma_palette)"
   ]
  },
  {
   "cell_type": "code",
   "execution_count": 30,
   "id": "dc3f4d70",
   "metadata": {},
   "outputs": [],
   "source": [
    "from sklearn.model_selection import learning_curve\n",
    "def evaluate(model, chosen_scoring=\"f1\", names= \"Default\"):\n",
    "    model.fit(X_train_scaled, y_train)\n",
    "    y_pred = model.predict(X_test_scaled)\n",
    "    print(\"Confusion_matrix : \")\n",
    "    print(confusion_matrix(y_test, y_pred))\n",
    "    print(\"Cassification_report : \")\n",
    "    print(classification_report(y_test, y_pred))\n",
    "    N, train_score, val_score = learning_curve(model, X_train_scaled, y_train, cv =3, scoring = chosen_scoring, train_sizes = np.linspace(0.1, 1, 10))\n",
    "    plt.figure(figsize=(10, 6))\n",
    "    plt.plot(N, train_score.mean(axis= 1), label = 'train score')\n",
    "    plt.xlabel(\"Data Set %\")\n",
    "    plt.plot(N, val_score.mean(axis= 1), label = 'val score')\n",
    "    plt.ylabel(chosen_scoring)\n",
    "    plt.title(names)\n",
    "    plt.legend()\n",
    "    plt.show()"
   ]
  },
  {
   "cell_type": "code",
   "execution_count": 31,
   "id": "9baa8122",
   "metadata": {},
   "outputs": [
    {
     "name": "stdout",
     "output_type": "stream",
     "text": [
      "année_2018_flat_DF.csv\n",
      "année_2021_Oct_DF.csv\n",
      "covid_DF.csv\n",
      "année_2018_DF.csv\n",
      "rdm2_DF.csv\n",
      "année_2019_flat_DF.csv\n",
      "ukr_war_DF.csv\n",
      "année_2021_Nov_DF.csv\n",
      "rdm1_DF.csv\n",
      "rdm3_DF.csv\n",
      "année_2018_flat_DF.csv\n",
      "année_2021_Oct_DF.csv\n",
      "covid_DF.csv\n",
      "année_2018_DF.csv\n",
      "rdm2_DF.csv\n",
      "année_2019_flat_DF.csv\n",
      "ukr_war_DF.csv\n",
      "année_2021_Nov_DF.csv\n",
      "rdm1_DF.csv\n",
      "rdm3_DF.csv\n"
     ]
    }
   ],
   "source": [
    "files = [file for file in os.listdir(\"assets/best_models/Anticor_BAH_BCRP_BestMarkowitz_BestSoFar_BNN_CORN_CRP_CWMR_DynamicCRP_EG_OLMAR_ONS_PAMR_RMR/cryptos\")]\n",
    "for file in files:\n",
    "    print(file)\n",
    "files2 = [file2 for file2 in os.listdir(\"assets/best_models/Anticor_BAH_BCRP_BestMarkowitz_BestSoFar_BNN_CORN_CRP_CWMR_DynamicCRP_EG_OLMAR_ONS_PAMR_RMR/nasdaq\")]\n",
    "for file2 in files2:\n",
    "    print(file2)"
   ]
  },
  {
   "cell_type": "code",
   "execution_count": 32,
   "id": "d280f163",
   "metadata": {},
   "outputs": [],
   "source": [
    "all_data = pd.DataFrame()\n",
    "for file in files:\n",
    "    df = pd.read_csv(\"assets/best_models/Anticor_BAH_BCRP_BestMarkowitz_BestSoFar_BNN_CORN_CRP_CWMR_DynamicCRP_EG_OLMAR_ONS_PAMR_RMR/cryptos/\"+file, index_col = [0])\n",
    "    all_data = pd.concat([all_data, df])\n",
    "for file2 in files2:\n",
    "    df = pd.read_csv(\"assets/best_models/Anticor_BAH_BCRP_BestMarkowitz_BestSoFar_BNN_CORN_CRP_CWMR_DynamicCRP_EG_OLMAR_ONS_PAMR_RMR/nasdaq/\"+file2, index_col = [0])\n",
    "    all_data = pd.concat([all_data, df])\n",
    "all_data = all_data.reset_index()\n",
    "all_data = all_data.drop(['index'], axis = 1)"
   ]
  },
  {
   "cell_type": "code",
   "execution_count": 33,
   "id": "54d598af",
   "metadata": {},
   "outputs": [
    {
     "data": {
      "text/plain": [
       "BestMarkowitz    0.299145\n",
       "BCRP             0.264957\n",
       "?                0.136752\n",
       "OLMAR            0.085470\n",
       "CWMR             0.042735\n",
       "Anticor          0.034188\n",
       "PAMR             0.034188\n",
       "BestSoFar        0.025641\n",
       "CORN             0.025641\n",
       "ONS              0.025641\n",
       "BAH              0.017094\n",
       "RMR              0.008547\n",
       "Name: algo, dtype: float64"
      ]
     },
     "execution_count": 33,
     "metadata": {},
     "output_type": "execute_result"
    }
   ],
   "source": [
    "all_data['algo'].value_counts(normalize=True)\n",
    "# Environ 70 % de nos datas sont des BM, BCRP ou ?Il faudra les garder"
   ]
  },
  {
   "cell_type": "code",
   "execution_count": 34,
   "id": "5ecb4c61",
   "metadata": {},
   "outputs": [],
   "source": [
    "all_data['algo'] = all_data['algo'].replace({\"BestMarkowitz\": 1, \"BCRP\": 2, \"?\": 1,\n",
    "                                            \"OLMAR\": 3, \"CWMR\": 4, \"Anticor\": 5, \"PAMR\": 6,\n",
    "                                            \"BestSoFar\": 7, \"CORN\": 8, \"ONS\": 9,'BAH': 10, \"RMR\": 11})"
   ]
  },
  {
   "cell_type": "code",
   "execution_count": 35,
   "id": "de2e379e",
   "metadata": {},
   "outputs": [],
   "source": [
    "all_data['market'] = all_data['market'].replace({'nasdaq': 1, 'cryptos': 0})"
   ]
  },
  {
   "cell_type": "code",
   "execution_count": null,
   "id": "93f36598",
   "metadata": {},
   "outputs": [],
   "source": []
  },
  {
   "cell_type": "code",
   "execution_count": 40,
   "id": "64c88fdc",
   "metadata": {},
   "outputs": [
    {
     "data": {
      "image/png": "[encoded data removed]",
      "text/plain": [
       "<Figure size 432x288 with 1 Axes>"
      ]
     },
     "metadata": {
      "needs_background": "light"
     },
     "output_type": "display_data"
    }
   ],
   "source": [
    "sns.scatterplot(x = 'vol_volatility',y = 'VIX_range', hue = 'algo', data = all_data)\n",
    "plt.savefig('VIX_Range_Volume_volatility_11Algos.jpg')"
   ]
  },
  {
   "cell_type": "code",
   "execution_count": null,
   "id": "061bc98c",
   "metadata": {},
   "outputs": [],
   "source": []
  }
 ],
 "metadata": {
  "kernelspec": {
   "display_name": "Python 3 (ipykernel)",
   "language": "python",
   "name": "python3"
  },
  "language_info": {
   "codemirror_mode": {
    "name": "ipython",
    "version": 3
   },
   "file_extension": ".py",
   "mimetype": "text/x-python",
   "name": "python",
   "nbconvert_exporter": "python",
   "pygments_lexer": "ipython3",
   "version": "3.9.9"
  }
 },
 "nbformat": 4,
 "nbformat_minor": 5
}
