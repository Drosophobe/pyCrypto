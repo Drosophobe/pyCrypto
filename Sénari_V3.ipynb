{
 "cells": [
  {
   "cell_type": "code",
   "execution_count": 43,
   "id": "50ac6d35",
   "metadata": {},
   "outputs": [],
   "source": [
    "import pandas as pd\n",
    "import numpy as np \n",
    "import yfinance as yf\n",
    "import os\n",
    "import matplotlib.pyplot as plt\n",
    "from datetime import  timedelta"
   ]
  },
  {
   "cell_type": "code",
   "execution_count": 44,
   "id": "b849bee7",
   "metadata": {},
   "outputs": [],
   "source": [
    "crypto_list = ['BTC-USD', 'ETH-USD', 'TRX-USD', 'BNB-USD', 'XRP-USD', 'DOGE-USD', 'ADA-USD', 'SOL-USD', 'SHIB-USD', 'LTC-USD']"
   ]
  },
  {
   "cell_type": "code",
   "execution_count": 45,
   "id": "85d30af9",
   "metadata": {},
   "outputs": [],
   "source": [
    "nasdaq40 = [\"AAPL\", \"TSLA\", \"ADBE\", \"ADI\", \"ADP\", \"ADSK\", \"AEP\", \"ALGN\", \"AMAT\", \"AMD\",\n",
    "           \"AMGN\", \"AMZN\", \"ASML\", \"ATVI\", \"AVGO\", \"AZN\", \"BIDU\", \"BIIB\", \"BKNG\", \n",
    "           \"CDNS\", \"TMUS\", \"CHTR\", \"CMCSA\", \"COST\", \"GOOGL\", \"CRWD\", \"CSCO\", \"CSX\", \"CTAS\",\n",
    "           \"CTSH\", \"DDOG\", \"DLTR\", \"DXCM\", \"EA\", \"EBAY\", \"EXC\", \"FAST\", \"FISV\", \"CSCO\", \"GOOG\",]"
   ]
  },
  {
   "cell_type": "code",
   "execution_count": 47,
   "id": "3efca845",
   "metadata": {},
   "outputs": [],
   "source": [
    "def année_2018(market_list, days = 60, market_type = 'nasdaq'):\n",
    "    df = pd.DataFrame()\n",
    "    année_2018_date = pd.to_datetime(\"2017-12-1\")\n",
    "    for j in market_list:\n",
    "        data = yf.Ticker(j)\n",
    "        close = data.history(period=\"max\")['Close']\n",
    "        vol = data.history(period=\"max\")['Volume']\n",
    "        df[f'{j}_Close'] = close\n",
    "        df[f'{j}_Vol'] = vol\n",
    "    cashback = pd.Series(data=np.ones(df.shape[0]), index=df.index, name = 'Cashback')\n",
    "    df_with_csh = pd.concat([df,cashback],axis=1) \n",
    "    df_final = df_with_csh[année_2018_date: année_2018_date+timedelta(days = days)]\n",
    "    os.makedirs(f'YahooF_Datas/{market_type}', exist_ok=True)\n",
    "    df_final.to_csv(f'YahooF_Datas/{market_type}/année_2018_DF.csv')\n",
    "#année_2018(crypto_list)"
   ]
  },
  {
   "cell_type": "code",
   "execution_count": 48,
   "id": "5c566196",
   "metadata": {},
   "outputs": [],
   "source": [
    "def année_2019(market_list, days = 60, market_type = 'nasdaq'):\n",
    "    df = pd.DataFrame()\n",
    "    année_2019_date = pd.to_datetime(\"2019-1-1\")\n",
    "    for j in market_list:\n",
    "        data = yf.Ticker(j)\n",
    "        close = data.history(period=\"max\")['Close']\n",
    "        vol = data.history(period=\"max\")['Volume']\n",
    "        df[f'{j}_Close'] = close\n",
    "        df[f'{j}_Vol'] = vol\n",
    "    cashback = pd.Series(data=np.ones(df.shape[0]), index=df.index, name = 'Cashback')\n",
    "    df_with_csh = pd.concat([df,cashback],axis=1) \n",
    "    df_final = df_with_csh[année_2019_date: année_2019_date+timedelta(days = days)]\n",
    "    os.makedirs(f'YahooF_Datas/{market_type}', exist_ok=True)\n",
    "    df_final.to_csv(f'YahooF_Datas/{market_type}/année_2019_DF.csv')\n",
    "#année_2019(crypto_list)"
   ]
  },
  {
   "cell_type": "code",
   "execution_count": 49,
   "id": "2565fd53",
   "metadata": {},
   "outputs": [],
   "source": [
    "def covid(market_list, days = 365, market_type = 'nasdaq'):\n",
    "    df = pd.DataFrame()\n",
    "    covid_date = pd.to_datetime(\"2019-11-11\")\n",
    "    for j in market_list:\n",
    "        data = yf.Ticker(j)\n",
    "        close = data.history(period=\"max\")['Close']\n",
    "        vol = data.history(period=\"max\")['Volume']\n",
    "        df[f'{j}_Close'] = close\n",
    "        df[f'{j}_Vol'] = vol\n",
    "    cashback = pd.Series(data=np.ones(df.shape[0]), index=df.index, name = 'Cashback')\n",
    "    df_with_csh = pd.concat([df,cashback],axis=1) \n",
    "    df_final = df_with_csh[covid_date: covid_date+timedelta(days = days)]\n",
    "    os.makedirs(f'YahooF_Datas/{market_type}', exist_ok=True)\n",
    "    df_final.to_csv(f'YahooF_Datas/{market_type}/covid_DF.csv')\n",
    "#covid(crypto_list)"
   ]
  },
  {
   "cell_type": "code",
   "execution_count": 50,
   "id": "7f4e8da0",
   "metadata": {},
   "outputs": [],
   "source": [
    "def ukr_war(market_list, days = 60, market_type = 'nasdaq'):\n",
    "    df = pd.DataFrame()\n",
    "    ukr_war_date = pd.to_datetime(\"2022-02-24\")\n",
    "    for j in market_list:\n",
    "        data = yf.Ticker(j)\n",
    "        close = data.history(period=\"max\")['Close']\n",
    "        vol = data.history(period=\"max\")['Volume']\n",
    "        df[f'{j}_Close'] = close\n",
    "        df[f'{j}_Vol'] = vol\n",
    "    cashback = pd.Series(data=np.ones(df.shape[0]), index=df.index, name = 'Cashback')\n",
    "    df_with_csh = pd.concat([df,cashback],axis=1) \n",
    "    df_final = df_with_csh[ukr_war_date: ukr_war_date+timedelta(days = days)]\n",
    "    os.makedirs(f'YahooF_Datas/{market_type}', exist_ok=True)\n",
    "    df_final.to_csv(f'YahooF_Datas/{market_type}/ukr_war_DF.csv')\n",
    "#ukr_war(crypto_list)"
   ]
  },
  {
   "cell_type": "code",
   "execution_count": 51,
   "id": "aa6d460f",
   "metadata": {},
   "outputs": [],
   "source": [
    "def new_millennium(market_list, days = 60, market_type = 'nasdaq'):\n",
    "    df = pd.DataFrame()\n",
    "    new_millennium_date = pd.to_datetime(\"1999-06-06\")\n",
    "    for j in market_list:\n",
    "        data = yf.Ticker(j)\n",
    "        close = data.history(period=\"max\")['Close']\n",
    "        vol = data.history(period=\"max\")['Volume']\n",
    "        df[f'{j}_Close'] = close\n",
    "        df[f'{j}_Vol'] = vol\n",
    "    cashback = pd.Series(data=np.ones(df.shape[0]), index=df.index, name = 'Cashback')\n",
    "    df_with_csh = pd.concat([df,cashback],axis=1) \n",
    "    df_final = df_with_csh[new_millennium_date: new_millennium_date+timedelta(days = days)]\n",
    "    os.makedirs(f'YahooF_Datas/{market_type}', exist_ok=True)\n",
    "    df_final.to_csv(f'YahooF_Datas/{market_type}/new_millennium_DF.csv')\n",
    "#new_millennium(nasdaq40)"
   ]
  },
  {
   "cell_type": "code",
   "execution_count": 52,
   "id": "f97e3652",
   "metadata": {},
   "outputs": [],
   "source": [
    "def subprimes(market_list, days = 60, market_type = 'nasdaq'):\n",
    "    df = pd.DataFrame()\n",
    "    subprimes_date = pd.to_datetime(\"2007-11-01\")\n",
    "    for j in market_list:\n",
    "        data = yf.Ticker(j)\n",
    "        close = data.history(period=\"max\")['Close']\n",
    "        vol = data.history(period=\"max\")['Volume']\n",
    "        df[f'{j}_Close'] = close\n",
    "        df[f'{j}_Vol'] = vol\n",
    "    cashback = pd.Series(data=np.ones(df.shape[0]), index=df.index, name = 'Cashback')\n",
    "    df_with_csh = pd.concat([df,cashback],axis=1) \n",
    "    df_final = df_with_csh[subprimes_date: subprimes_date+timedelta(days = days)]\n",
    "    os.makedirs(f'YahooF_Datas/{market_type}', exist_ok=True)\n",
    "    df_final.to_csv(f'YahooF_Datas/{market_type}/subprimes_DF.csv')\n",
    "#subprimes(nasdaq40)"
   ]
  },
  {
   "cell_type": "code",
   "execution_count": 53,
   "id": "7d2a7475",
   "metadata": {},
   "outputs": [],
   "source": [
    "année_2018(crypto_list, market_type='cryptos')\n",
    "année_2019(crypto_list, market_type='cryptos')\n",
    "ukr_war(crypto_list, market_type='cryptos')\n",
    "covid(crypto_list, market_type='cryptos')\n",
    "new_millennium(nasdaq40)\n",
    "subprimes(nasdaq40)\n",
    "année_2018(nasdaq40)\n",
    "année_2019(nasdaq40)\n",
    "ukr_war(nasdaq40)\n",
    "covid(nasdaq40)"
   ]
  }
 ],
 "metadata": {
  "kernelspec": {
   "display_name": "Python 3 (ipykernel)",
   "language": "python",
   "name": "python3"
  },
  "language_info": {
   "codemirror_mode": {
    "name": "ipython",
    "version": 3
   },
   "file_extension": ".py",
   "mimetype": "text/x-python",
   "name": "python",
   "nbconvert_exporter": "python",
   "pygments_lexer": "ipython3",
   "version": "3.9.9"
  }
 },
 "nbformat": 4,
 "nbformat_minor": 5
}
